{
 "cells": [
  {
   "cell_type": "code",
   "execution_count": 2,
   "metadata": {},
   "outputs": [],
   "source": [
    "import pymongo"
   ]
  },
  {
   "cell_type": "code",
   "execution_count": 3,
   "metadata": {},
   "outputs": [],
   "source": [
    "myclient = pymongo.MongoClient(\"mongodb://localhost:27017/\")"
   ]
  },
  {
   "cell_type": "code",
   "execution_count": 4,
   "metadata": {},
   "outputs": [],
   "source": [
    "# create database\n",
    "mydb = myclient[\"mydatabase\"]\n"
   ]
  },
  {
   "cell_type": "code",
   "execution_count": 7,
   "metadata": {},
   "outputs": [
    {
     "name": "stdout",
     "output_type": "stream",
     "text": [
      "['admin', 'config', 'local']\n"
     ]
    }
   ],
   "source": [
    "dblist = myclient.list_database_names()\n",
    "print(dblist)\n"
   ]
  },
  {
   "cell_type": "code",
   "execution_count": 8,
   "metadata": {},
   "outputs": [],
   "source": [
    "# database wont show without data\n",
    "if \"mydatabase\" in dblist:\n",
    "  print(\"The database exists.\")"
   ]
  },
  {
   "cell_type": "code",
   "execution_count": 9,
   "metadata": {},
   "outputs": [
    {
     "name": "stdout",
     "output_type": "stream",
     "text": [
      "[]\n"
     ]
    }
   ],
   "source": [
    "# create collection -- wont show without data\n",
    "mycol = mydb[\"customers\"]\n",
    "print(mydb.list_collection_names())\n"
   ]
  },
  {
   "cell_type": "code",
   "execution_count": 11,
   "metadata": {},
   "outputs": [
    {
     "name": "stdout",
     "output_type": "stream",
     "text": [
      "['customers']\n"
     ]
    }
   ],
   "source": [
    "mydict = { \"name\": \"John\", \"address\": \"Highway 37\" }\n",
    "x = mycol.insert_one(mydict)\n",
    "\n",
    "print(mydb.list_collection_names())"
   ]
  },
  {
   "cell_type": "code",
   "execution_count": 12,
   "metadata": {},
   "outputs": [
    {
     "name": "stdout",
     "output_type": "stream",
     "text": [
      "677c9c640f343cef4809ad84\n"
     ]
    }
   ],
   "source": [
    "print(x.inserted_id)"
   ]
  },
  {
   "cell_type": "code",
   "execution_count": 18,
   "metadata": {},
   "outputs": [
    {
     "data": {
      "text/plain": [
       "[{'_id': ObjectId('677c9c580f343cef4809ad83'),\n",
       "  'name': 'John',\n",
       "  'address': 'Highway 37'},\n",
       " {'_id': ObjectId('677c9c640f343cef4809ad84'),\n",
       "  'name': 'John',\n",
       "  'address': 'Highway 37'}]"
      ]
     },
     "execution_count": 18,
     "metadata": {},
     "output_type": "execute_result"
    }
   ],
   "source": [
    "list(mycol.find({}))"
   ]
  },
  {
   "cell_type": "code",
   "execution_count": 19,
   "metadata": {},
   "outputs": [],
   "source": [
    "mylist = [\n",
    "  { \"name\": \"Amy\", \"address\": \"Apple st 652\"},\n",
    "  { \"name\": \"Hannah\", \"address\": \"Mountain 21\"},\n",
    "  { \"name\": \"Michael\", \"address\": \"Valley 345\"},\n",
    "  { \"name\": \"Sandy\", \"address\": \"Ocean blvd 2\"},\n",
    "  { \"name\": \"Betty\", \"address\": \"Green Grass 1\"},\n",
    "  { \"name\": \"Richard\", \"address\": \"Sky st 331\"},\n",
    "  { \"name\": \"Susan\", \"address\": \"One way 98\"},\n",
    "  { \"name\": \"Vicky\", \"address\": \"Yellow Garden 2\"},\n",
    "  { \"name\": \"Ben\", \"address\": \"Park Lane 38\"},\n",
    "  { \"name\": \"William\", \"address\": \"Central st 954\"},\n",
    "  { \"name\": \"Chuck\", \"address\": \"Main Road 989\"},\n",
    "  { \"name\": \"Viola\", \"address\": \"Sideway 1633\"}\n",
    "]\n",
    "x = mycol.insert_many(mylist)\n"
   ]
  },
  {
   "cell_type": "code",
   "execution_count": 20,
   "metadata": {},
   "outputs": [
    {
     "data": {
      "text/plain": [
       "[{'_id': ObjectId('677c9c580f343cef4809ad83'),\n",
       "  'name': 'John',\n",
       "  'address': 'Highway 37'},\n",
       " {'_id': ObjectId('677c9c640f343cef4809ad84'),\n",
       "  'name': 'John',\n",
       "  'address': 'Highway 37'},\n",
       " {'_id': ObjectId('677c9d590f343cef4809ad85'),\n",
       "  'name': 'Amy',\n",
       "  'address': 'Apple st 652'},\n",
       " {'_id': ObjectId('677c9d590f343cef4809ad86'),\n",
       "  'name': 'Hannah',\n",
       "  'address': 'Mountain 21'},\n",
       " {'_id': ObjectId('677c9d590f343cef4809ad87'),\n",
       "  'name': 'Michael',\n",
       "  'address': 'Valley 345'},\n",
       " {'_id': ObjectId('677c9d590f343cef4809ad88'),\n",
       "  'name': 'Sandy',\n",
       "  'address': 'Ocean blvd 2'},\n",
       " {'_id': ObjectId('677c9d590f343cef4809ad89'),\n",
       "  'name': 'Betty',\n",
       "  'address': 'Green Grass 1'},\n",
       " {'_id': ObjectId('677c9d590f343cef4809ad8a'),\n",
       "  'name': 'Richard',\n",
       "  'address': 'Sky st 331'},\n",
       " {'_id': ObjectId('677c9d590f343cef4809ad8b'),\n",
       "  'name': 'Susan',\n",
       "  'address': 'One way 98'},\n",
       " {'_id': ObjectId('677c9d590f343cef4809ad8c'),\n",
       "  'name': 'Vicky',\n",
       "  'address': 'Yellow Garden 2'},\n",
       " {'_id': ObjectId('677c9d590f343cef4809ad8d'),\n",
       "  'name': 'Ben',\n",
       "  'address': 'Park Lane 38'},\n",
       " {'_id': ObjectId('677c9d590f343cef4809ad8e'),\n",
       "  'name': 'William',\n",
       "  'address': 'Central st 954'},\n",
       " {'_id': ObjectId('677c9d590f343cef4809ad8f'),\n",
       "  'name': 'Chuck',\n",
       "  'address': 'Main Road 989'},\n",
       " {'_id': ObjectId('677c9d590f343cef4809ad90'),\n",
       "  'name': 'Viola',\n",
       "  'address': 'Sideway 1633'}]"
      ]
     },
     "execution_count": 20,
     "metadata": {},
     "output_type": "execute_result"
    }
   ],
   "source": [
    "list(mycol.find({}))"
   ]
  }
 ],
 "metadata": {
  "kernelspec": {
   "display_name": ".venv",
   "language": "python",
   "name": "python3"
  },
  "language_info": {
   "codemirror_mode": {
    "name": "ipython",
    "version": 3
   },
   "file_extension": ".py",
   "mimetype": "text/x-python",
   "name": "python",
   "nbconvert_exporter": "python",
   "pygments_lexer": "ipython3",
   "version": "3.12.8"
  }
 },
 "nbformat": 4,
 "nbformat_minor": 2
}
