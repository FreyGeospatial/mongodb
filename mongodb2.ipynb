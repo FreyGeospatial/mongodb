{
 "cells": [
  {
   "cell_type": "code",
   "execution_count": 41,
   "metadata": {},
   "outputs": [],
   "source": [
    "import pymongo\n",
    "import uuid\n",
    "import json\n",
    "from datetime import datetime, timezone\n",
    "from cloudevents.http import CloudEvent\n",
    "from cloudevents.conversion import to_structured, to_json, to_binary, to_dict"
   ]
  },
  {
   "cell_type": "code",
   "execution_count": 42,
   "metadata": {},
   "outputs": [],
   "source": [
    "myclient = pymongo.MongoClient(\"mongodb://localhost:27017/\")"
   ]
  },
  {
   "cell_type": "code",
   "execution_count": 43,
   "metadata": {},
   "outputs": [],
   "source": [
    "# create database\n",
    "myclient.drop_database(\"testdb\")\n",
    "mydb = myclient[\"testdb\"]\n"
   ]
  },
  {
   "cell_type": "code",
   "execution_count": 44,
   "metadata": {},
   "outputs": [],
   "source": [
    "# create collections\n",
    "error_store = mydb[\"errors\"]\n",
    "dlq_store = mydb[\"dlq\"]\n",
    "events_store = mydb[\"events\"]"
   ]
  },
  {
   "cell_type": "code",
   "execution_count": 45,
   "metadata": {},
   "outputs": [],
   "source": [
    "attributes = {\n",
    "    \"id\": str(uuid.uuid4()),\n",
    "    \"source\": \"https://example.com/event-producer\",\n",
    "    \"type\": \"com.example.someevent\",\n",
    "    \"time\": datetime.now(timezone.utc).isoformat(),\n",
    "    \"specversion\": \"1.0\"\n",
    "}\n",
    "\n",
    "data = {\"hello\": \"world\"}\n",
    "\n",
    "test_cloud_event = CloudEvent(attributes=attributes, data=data)"
   ]
  },
  {
   "cell_type": "code",
   "execution_count": 46,
   "metadata": {},
   "outputs": [],
   "source": [
    "attributes2 = {\n",
    "    \"id\": str(uuid.uuid4()),\n",
    "    \"source\": \"https://example.com/event-producer\",\n",
    "    \"type\": \"com.example.someevent\",\n",
    "    \"time\": datetime.now(timezone.utc).isoformat(),\n",
    "    \"specversion\": \"1.0\"\n",
    "}\n",
    "\n",
    "data2 = {\"hello\": \"world\"}\n",
    "\n",
    "test_cloud_event2 = CloudEvent(attributes=attributes2, data=data2)"
   ]
  },
  {
   "cell_type": "code",
   "execution_count": 47,
   "metadata": {},
   "outputs": [
    {
     "data": {
      "text/plain": [
       "b'{\"specversion\": \"1.0\", \"id\": \"9159e22f-55c8-46aa-9a16-bf644afd449d\", \"source\": \"https://example.com/event-producer\", \"type\": \"com.example.someevent\", \"time\": \"2025-01-07T03:56:46.100935+00:00\", \"data\": {\"hello\": \"world\"}}'"
      ]
     },
     "execution_count": 47,
     "metadata": {},
     "output_type": "execute_result"
    }
   ],
   "source": [
    "to_json(test_cloud_event)"
   ]
  },
  {
   "cell_type": "code",
   "execution_count": 48,
   "metadata": {},
   "outputs": [
    {
     "data": {
      "text/plain": [
       "({'content-type': 'application/cloudevents+json'},\n",
       " b'{\"specversion\": \"1.0\", \"id\": \"9159e22f-55c8-46aa-9a16-bf644afd449d\", \"source\": \"https://example.com/event-producer\", \"type\": \"com.example.someevent\", \"time\": \"2025-01-07T03:56:46.100935+00:00\", \"data\": {\"hello\": \"world\"}}')"
      ]
     },
     "execution_count": 48,
     "metadata": {},
     "output_type": "execute_result"
    }
   ],
   "source": [
    "to_structured(test_cloud_event)"
   ]
  },
  {
   "cell_type": "code",
   "execution_count": 49,
   "metadata": {},
   "outputs": [
    {
     "data": {
      "text/plain": [
       "({'ce-specversion': '1.0',\n",
       "  'ce-id': '9159e22f-55c8-46aa-9a16-bf644afd449d',\n",
       "  'ce-source': 'https://example.com/event-producer',\n",
       "  'ce-type': 'com.example.someevent',\n",
       "  'ce-time': '2025-01-07T03:56:46.100935+00:00'},\n",
       " b'{\"hello\": \"world\"}')"
      ]
     },
     "execution_count": 49,
     "metadata": {},
     "output_type": "execute_result"
    }
   ],
   "source": [
    "to_binary(test_cloud_event)"
   ]
  },
  {
   "cell_type": "code",
   "execution_count": 50,
   "metadata": {},
   "outputs": [
    {
     "data": {
      "text/plain": [
       "{'id': '9159e22f-55c8-46aa-9a16-bf644afd449d',\n",
       " 'source': 'https://example.com/event-producer',\n",
       " 'type': 'com.example.someevent',\n",
       " 'time': '2025-01-07T03:56:46.100935+00:00',\n",
       " 'specversion': '1.0',\n",
       " 'data': {'hello': 'world'}}"
      ]
     },
     "execution_count": 50,
     "metadata": {},
     "output_type": "execute_result"
    }
   ],
   "source": [
    "to_dict(test_cloud_event)"
   ]
  },
  {
   "cell_type": "code",
   "execution_count": 51,
   "metadata": {},
   "outputs": [
    {
     "data": {
      "text/plain": [
       "InsertOneResult(ObjectId('677ca5fed707548e3a212ecf'), acknowledged=True)"
      ]
     },
     "execution_count": 51,
     "metadata": {},
     "output_type": "execute_result"
    }
   ],
   "source": [
    "dlq_store.insert_one(to_dict(test_cloud_event))"
   ]
  },
  {
   "cell_type": "code",
   "execution_count": 52,
   "metadata": {},
   "outputs": [
    {
     "data": {
      "text/plain": [
       "InsertOneResult(ObjectId('677ca5fed707548e3a212ed0'), acknowledged=True)"
      ]
     },
     "execution_count": 52,
     "metadata": {},
     "output_type": "execute_result"
    }
   ],
   "source": [
    "dlq_store.insert_one(to_dict(test_cloud_event2))"
   ]
  },
  {
   "cell_type": "code",
   "execution_count": 53,
   "metadata": {},
   "outputs": [
    {
     "data": {
      "text/plain": [
       "[{'_id': ObjectId('677ca5fed707548e3a212ecf'),\n",
       "  'id': '9159e22f-55c8-46aa-9a16-bf644afd449d',\n",
       "  'source': 'https://example.com/event-producer',\n",
       "  'type': 'com.example.someevent',\n",
       "  'time': '2025-01-07T03:56:46.100935+00:00',\n",
       "  'specversion': '1.0',\n",
       "  'data': {'hello': 'world'}},\n",
       " {'_id': ObjectId('677ca5fed707548e3a212ed0'),\n",
       "  'id': '449c4eca-e4b1-43b8-878f-8c06348d92b8',\n",
       "  'source': 'https://example.com/event-producer',\n",
       "  'type': 'com.example.someevent',\n",
       "  'time': '2025-01-07T03:56:46.104776+00:00',\n",
       "  'specversion': '1.0',\n",
       "  'data': {'hello': 'world'}}]"
      ]
     },
     "execution_count": 53,
     "metadata": {},
     "output_type": "execute_result"
    }
   ],
   "source": [
    "[x for x in dlq_store.find({})]"
   ]
  },
  {
   "cell_type": "code",
   "execution_count": 57,
   "metadata": {},
   "outputs": [
    {
     "data": {
      "text/plain": [
       "[{'_id': ObjectId('677ca5fed707548e3a212ecf'),\n",
       "  'id': '9159e22f-55c8-46aa-9a16-bf644afd449d',\n",
       "  'source': 'https://example.com/event-producer',\n",
       "  'type': 'com.example.someevent',\n",
       "  'time': '2025-01-07T03:56:46.100935+00:00',\n",
       "  'specversion': '1.0',\n",
       "  'data': {'hello': 'world'}}]"
      ]
     },
     "execution_count": 57,
     "metadata": {},
     "output_type": "execute_result"
    }
   ],
   "source": [
    "[x for x in dlq_store.find({\"id\": \"9159e22f-55c8-46aa-9a16-bf644afd449d\"})]"
   ]
  },
  {
   "cell_type": "code",
   "execution_count": 58,
   "metadata": {},
   "outputs": [
    {
     "data": {
      "text/plain": [
       "[{'_id': ObjectId('677ca5fed707548e3a212ed0'),\n",
       "  'id': '449c4eca-e4b1-43b8-878f-8c06348d92b8',\n",
       "  'source': 'https://example.com/event-producer',\n",
       "  'type': 'com.example.someevent',\n",
       "  'time': '2025-01-07T03:56:46.104776+00:00',\n",
       "  'specversion': '1.0',\n",
       "  'data': {'hello': 'world'}}]"
      ]
     },
     "execution_count": 58,
     "metadata": {},
     "output_type": "execute_result"
    }
   ],
   "source": [
    "[x for x in dlq_store.find({\"id\": \"449c4eca-e4b1-43b8-878f-8c06348d92b8\"})]"
   ]
  },
  {
   "cell_type": "code",
   "execution_count": 62,
   "metadata": {},
   "outputs": [
    {
     "data": {
      "text/plain": [
       "[{'_id': ObjectId('677ca5fed707548e3a212ed0'),\n",
       "  'id': '449c4eca-e4b1-43b8-878f-8c06348d92b8',\n",
       "  'source': 'https://example.com/event-producer',\n",
       "  'type': 'com.example.someevent',\n",
       "  'time': '2025-01-07T03:56:46.104776+00:00',\n",
       "  'specversion': '1.0',\n",
       "  'data': {'hello': 'world'}}]"
      ]
     },
     "execution_count": 62,
     "metadata": {},
     "output_type": "execute_result"
    }
   ],
   "source": [
    "[x for x in dlq_store.find({\"data\": {\"hello\": \"world\"}})]"
   ]
  },
  {
   "cell_type": "code",
   "execution_count": 64,
   "metadata": {},
   "outputs": [
    {
     "data": {
      "text/plain": [
       "[{'_id': ObjectId('677ca5fed707548e3a212ed0'),\n",
       "  'id': '449c4eca-e4b1-43b8-878f-8c06348d92b8',\n",
       "  'source': 'https://example.com/event-producer',\n",
       "  'type': 'com.example.someevent',\n",
       "  'time': '2025-01-07T03:56:46.104776+00:00',\n",
       "  'specversion': '1.0',\n",
       "  'data': {'hello': 'world'}}]"
      ]
     },
     "execution_count": 64,
     "metadata": {},
     "output_type": "execute_result"
    }
   ],
   "source": [
    "[x for x in dlq_store.find({\"data\": {\"hello\": \"world\"}, \"id\": \"449c4eca-e4b1-43b8-878f-8c06348d92b8\"})]"
   ]
  }
 ],
 "metadata": {
  "kernelspec": {
   "display_name": ".venv",
   "language": "python",
   "name": "python3"
  },
  "language_info": {
   "codemirror_mode": {
    "name": "ipython",
    "version": 3
   },
   "file_extension": ".py",
   "mimetype": "text/x-python",
   "name": "python",
   "nbconvert_exporter": "python",
   "pygments_lexer": "ipython3",
   "version": "3.12.8"
  }
 },
 "nbformat": 4,
 "nbformat_minor": 2
}
